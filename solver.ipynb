{
 "cells": [
  {
   "cell_type": "code",
   "execution_count": 1,
   "metadata": {},
   "outputs": [],
   "source": [
    "import sys\n",
    "import copy\n",
    "import random\n",
    "from boards import *"
   ]
  },
  {
   "cell_type": "code",
   "execution_count": 2,
   "metadata": {},
   "outputs": [],
   "source": [
    "def reset_board(board_name):\n",
    "    if board_name == \"board1\":\n",
    "        board = board1\n",
    "    elif board_name == \"board2\":\n",
    "        board = board2\n",
    "    elif board_name == \"board3\":\n",
    "        board = board3\n",
    "    elif board_name == \"board4\":\n",
    "        board = board4\n",
    "    elif board_name ==\"board_nyt_08_01_hard\":\n",
    "        board = board_nyt_08_01_hard\n",
    "    return board"
   ]
  },
  {
   "cell_type": "code",
   "execution_count": 3,
   "metadata": {},
   "outputs": [],
   "source": [
    "def display_game_board(board):\n",
    "    board_array = [entry for row in board for entry in row]\n",
    "    for i, value in enumerate(board_array):\n",
    "        if i == 0: sys.stdout.write('---' * 9 + '----\\n|')\n",
    "        else: \n",
    "            if i % 9 == 0: sys.stdout.write('|\\n')\n",
    "            if i % 27 == 0: sys.stdout.write('---' * 9 + '----\\n')\n",
    "            if i % 3 == 0: sys.stdout.write('|')\n",
    "        sys.stdout.write(f' {value} ')\n",
    "        if i == 80:\n",
    "            sys.stdout.write('|\\n' + '---' * 9 + '----')"
   ]
  },
  {
   "cell_type": "code",
   "execution_count": 4,
   "metadata": {},
   "outputs": [],
   "source": [
    "def check_row(board, row):\n",
    "    values_in_row = []\n",
    "    for value in board[row]:\n",
    "        if isinstance(value, int): values_in_row.append(value)\n",
    "    return values_in_row"
   ]
  },
  {
   "cell_type": "code",
   "execution_count": 5,
   "metadata": {},
   "outputs": [],
   "source": [
    "def check_column(board, column):\n",
    "    values_in_column = []\n",
    "    for i in range(9):\n",
    "        if isinstance(board[i][column], int): values_in_column.append(board[i][column])\n",
    "    return values_in_column"
   ]
  },
  {
   "cell_type": "code",
   "execution_count": 6,
   "metadata": {},
   "outputs": [],
   "source": [
    "def check_square(board, row, column):\n",
    "    values_in_square = []\n",
    "\n",
    "    if 0 <= row <= 2:\n",
    "        rows_to_check = [0, 1, 2]\n",
    "    elif 3 <= row <= 5:\n",
    "        rows_to_check = [3, 4, 5]\n",
    "    elif 6 <= row <= 8:\n",
    "        rows_to_check = [6, 7, 8]\n",
    "\n",
    "    if 0 <= column <= 2:\n",
    "        columns_to_check = [0, 1, 2]\n",
    "    elif 3 <= column <= 5:\n",
    "        columns_to_check = [3, 4, 5]\n",
    "    elif 6 <= column <= 8:\n",
    "        columns_to_check = [6, 7, 8]\n",
    "\n",
    "    for row in rows_to_check:\n",
    "        for column in columns_to_check:\n",
    "            if isinstance(board[row][column], int):\n",
    "                values_in_square.append(board[row][column])\n",
    "    \n",
    "    return values_in_square\n",
    "    "
   ]
  },
  {
   "cell_type": "code",
   "execution_count": 7,
   "metadata": {},
   "outputs": [],
   "source": [
    "def find_value_options(board, row, column):\n",
    "    default_options = set(x for x in range(1, 10))\n",
    "\n",
    "    values_in_row = check_row(board, row)\n",
    "    values_in_column = check_column(board, column)\n",
    "    values_in_square = check_square(board, row, column)\n",
    "\n",
    "    values_taken = set(values_in_row + values_in_column + values_in_square)\n",
    "\n",
    "    value_options = list(default_options - values_taken)\n",
    "\n",
    "    return(value_options)"
   ]
  },
  {
   "cell_type": "code",
   "execution_count": 8,
   "metadata": {},
   "outputs": [],
   "source": [
    "# Find values guarenteed by row, column, and square\n",
    "# Adds them to board\n",
    "def write_guarenteed_values(board):\n",
    "    # print('Original Game Board')\n",
    "    # display_game_board(board)\n",
    "    # print('\\nGuarenteed Spots Filled In')\n",
    "    new_board = copy.deepcopy(board)\n",
    "    while True:\n",
    "        updated_board = False\n",
    "        for row in range(9):\n",
    "            for column in range(9):\n",
    "                if isinstance(new_board[row][column], int):\n",
    "                    continue\n",
    "                value_options = find_value_options(new_board, row, column)\n",
    "                if len(value_options) == 1:\n",
    "                    new_board[row][column] = value_options[0]\n",
    "                    print(f'\\nrow = {row}, column = {column} must be {value_options[0]}\\n')\n",
    "                    display_game_board(new_board)\n",
    "                    print()\n",
    "                    updated_board = True\n",
    "        if updated_board == False:\n",
    "            break\n",
    "    # display_game_board(new_board)\n",
    "    return new_board"
   ]
  },
  {
   "cell_type": "code",
   "execution_count": 9,
   "metadata": {},
   "outputs": [],
   "source": [
    "def is_board_solved(board):\n",
    "    for row in range(9):\n",
    "        for column in range(9):\n",
    "            if isinstance(board[row][column], str):\n",
    "                return False\n",
    "    return True"
   ]
  },
  {
   "cell_type": "code",
   "execution_count": 10,
   "metadata": {},
   "outputs": [],
   "source": [
    "def find_missing_values(board):\n",
    "    missing_values = []\n",
    "    for row in range(9):\n",
    "        for column in range(9):\n",
    "            if isinstance(board[row][column], str):\n",
    "                missing_values.append((row,column))\n",
    "    return missing_values                "
   ]
  },
  {
   "cell_type": "code",
   "execution_count": 11,
   "metadata": {},
   "outputs": [],
   "source": [
    "def recursive_solve(board, recursion_count=None, index=None, missing_values=None, values_tried=None):\n",
    "    print()\n",
    "    if recursion_count == None:\n",
    "        recursion_count = 0\n",
    "    if index == None:\n",
    "        index = 0\n",
    "    if missing_values == None:\n",
    "        missing_values = find_missing_values(board)\n",
    "    if values_tried == None:\n",
    "        values_tried = [[] for x in range(len(missing_values))]\n",
    "    if is_board_solved(board):\n",
    "        return\n",
    "\n",
    "    row, column = missing_values[index]\n",
    "    board[row][column] = '~'\n",
    "    value_options = find_value_options(board, row, column)\n",
    "    value_options = list(set(value_options) - set(values_tried[index]))\n",
    "    value_options.sort()\n",
    "    print(f'this board has been tried {recursion_count} times recursively')\n",
    "    print(f'row = {row}, column = {column}')\n",
    "    print(f'value options = {value_options}')\n",
    "    print(f'already_tried {values_tried[index]}')\n",
    "    print(f'index = {index}')\n",
    "    print(f'values_tried = {values_tried}')\n",
    "    display_game_board(board)\n",
    "    if len(value_options) == 0:\n",
    "        recursive_solve(board, recursion_count + 1, index - 1, missing_values, values_tried)\n",
    "    else:\n",
    "        value_to_try = value_options[0]\n",
    "        print(f'\\nvalue to try = {value_to_try}')\n",
    "        values_tried[index].append(value_to_try)\n",
    "        for backtrack_index in range(index + 1, len(values_tried)):\n",
    "            values_tried[backtrack_index] = []\n",
    "        board[row][column] = value_to_try\n",
    "        recursive_solve(board, recursion_count + 1,index + 1, missing_values, values_tried)\n"
   ]
  },
  {
   "cell_type": "code",
   "execution_count": null,
   "metadata": {},
   "outputs": [],
   "source": [
    "# Python default recursion limit is 1000, some sudokus go deeper than that\n",
    "# so we need to set the recursion limit higher\n",
    "sys.setrecursionlimit(10000)\n",
    "print(sys.getrecursionlimit())"
   ]
  },
  {
   "cell_type": "markdown",
   "metadata": {},
   "source": [
    "# START HERE\n",
    "\n",
    "### Instructions\n",
    "1. run all cells above this\n",
    "2. run cell below and change to \"board1\" - \"board4\"\n",
    "3. run display_game_board cell to see board before its solved\n",
    "4. run solving cell"
   ]
  },
  {
   "cell_type": "code",
   "execution_count": 41,
   "metadata": {},
   "outputs": [],
   "source": [
    "board = reset_board(\"board4\")"
   ]
  },
  {
   "cell_type": "code",
   "execution_count": null,
   "metadata": {},
   "outputs": [],
   "source": [
    "display_game_board(board)"
   ]
  },
  {
   "cell_type": "code",
   "execution_count": null,
   "metadata": {},
   "outputs": [],
   "source": [
    "### SOLVING CELL ###\n",
    "\n",
    "default_stdout = sys.stdout\n",
    "sys.stdout = open('step_1_writing_guarenteed_values.txt', 'wt')\n",
    "print('Starting Sudoku Board')\n",
    "display_game_board(board)\n",
    "print()\n",
    "board_to_solve = write_guarenteed_values(board)\n",
    "# board_to_solve = board\n",
    "sys.stdout = open('step_2_solving_recusively.txt', 'wt')\n",
    "try:\n",
    "    recursive_solve(board_to_solve)\n",
    "except:\n",
    "    RecursionError\n",
    "    sys.stdout = default_stdout\n",
    "    print(f'MAX RECURSION DEPTH OF {sys.getrecursionlimit()} MET')\n",
    "sys.stdout = default_stdout\n",
    "print(f'Is board solved? {is_board_solved(board_to_solve)}')\n",
    "display_game_board(board_to_solve)"
   ]
  }
 ],
 "metadata": {
  "kernelspec": {
   "display_name": "Python 3.6.8 64-bit",
   "language": "python",
   "name": "python3"
  },
  "language_info": {
   "codemirror_mode": {
    "name": "ipython",
    "version": 3
   },
   "file_extension": ".py",
   "mimetype": "text/x-python",
   "name": "python",
   "nbconvert_exporter": "python",
   "pygments_lexer": "ipython3",
   "version": "3.8.10"
  },
  "orig_nbformat": 4,
  "vscode": {
   "interpreter": {
    "hash": "916dbcbb3f70747c44a77c7bcd40155683ae19c65e1c03b4aa3499c5328201f1"
   }
  }
 },
 "nbformat": 4,
 "nbformat_minor": 2
}
