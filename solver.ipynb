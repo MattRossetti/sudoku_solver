{
 "cells": [
  {
   "cell_type": "markdown",
   "metadata": {},
   "source": [
    "# Sudoku Solver\n",
    "\n",
    "### Steps\n",
    "1. Script ingests gameboard as a list of lists\n",
    "2. 'Dumb' algorithms to check\n",
    "    1. Row\n",
    "    2. Column\n",
    "    3. own square\n",
    "3. Stores possibilities in 'possibilities' list\n",
    "4. Solving loop\n",
    "    1. try random possibility from upper left\n",
    "    2. if no numbers in possibility, up one loop, backtrack\n",
    "    4. update possibilities\n",
    "    3. try next number"
   ]
  },
  {
   "cell_type": "code",
   "execution_count": 1,
   "metadata": {},
   "outputs": [],
   "source": [
    "import sys\n",
    "import copy\n",
    "import random"
   ]
  },
  {
   "cell_type": "code",
   "execution_count": 104,
   "metadata": {},
   "outputs": [],
   "source": [
    "def reset_board(board_name):\n",
    "    if board_name == \"board1\":\n",
    "        board = board1\n",
    "    elif board_name == \"board2\":\n",
    "        board = board2\n",
    "    elif board_name == \"board3\":\n",
    "        board = board3\n",
    "    elif board_name == \"board4\":\n",
    "        board = board4\n",
    "    return board"
   ]
  },
  {
   "cell_type": "code",
   "execution_count": 75,
   "metadata": {},
   "outputs": [],
   "source": [
    "board1 = [\n",
    "    [ 3 , '~', '~', '~',  1 ,  9 , '~', '~', '~'],\n",
    "    ['~',  9 ,  6 , '~',  2 ,  8 ,  4 ,  3 ,  1 ],\n",
    "    [ 1 ,  5 ,  2 , '~',  4 ,  7 ,  6 ,  8 , '~'],\n",
    "    ['~',  6 ,  7 , '~',  8 , '~', '~', '~', '~'],\n",
    "    [ 8 , '~',  5 , '~', '~', '~',  3 , '~',  6 ],\n",
    "    ['~', '~', '~',  1 , '~', '~', '~',  7 , '~'],\n",
    "    ['~', '~', '~',  2 ,  3 , '~',  9 ,  6 , '~'],\n",
    "    [ 5 , '~', '~', '~',  6 , '~', '~', '~', '~'],\n",
    "    ['~',  2 , '~',  8 , '~', '~',  1 , '~',  7 ],\n",
    "]"
   ]
  },
  {
   "cell_type": "code",
   "execution_count": 125,
   "metadata": {},
   "outputs": [],
   "source": [
    "board2 = [\n",
    "    ['~', '~', '~',  1 , '~',  5 , '~',  6 ,  8 ],\n",
    "    ['~', '~', '~', '~', '~', '~',  7 , '~',  1 ],\n",
    "    [ 9 , '~',  1 , '~', '~', '~', '~',  3 , '~'],\n",
    "    ['~', '~',  7 , '~',  2 ,  6 , '~', '~', '~'],\n",
    "    [ 5 , '~', '~', '~', '~', '~', '~', '~',  3 ],\n",
    "    ['~', '~', '~',  8 ,  7 , '~',  4 , '~', '~'],\n",
    "    ['~',  3 , '~', '~', '~', '~',  8 , '~',  5 ],\n",
    "    [ 1 , '~',  5 , '~', '~', '~', '~', '~', '~'],\n",
    "    [ 7 ,  9 , '~',  4 , '~',  1 , '~', '~', '~'],\n",
    "]"
   ]
  },
  {
   "cell_type": "code",
   "execution_count": 121,
   "metadata": {},
   "outputs": [],
   "source": [
    "board3 = [\n",
    "    [ 3 , '~',  5 , '~', '~', '~',  2 , '~', '~'],\n",
    "    ['~', '~',  9 ,  2 , '~', '~',  1 ,  7 , '~'],\n",
    "    [ 2 , '~', '~', '~', '~',  9 , '~',  8 ,  3 ],\n",
    "    ['~', '~', '~',  4 ,  7 , '~',  3 , '~', '~'],\n",
    "    ['~',  1 , '~', '~', '~', '~', '~',  5 , '~'],\n",
    "    ['~', '~',  2 , '~',  5 ,  1 , '~', '~', '~'],\n",
    "    [ 5 ,  2 , '~',  1 , '~', '~', '~', '~',  8 ],\n",
    "    ['~',  9 ,  4 , '~', '~',  8 ,  7 , '~', '~'],\n",
    "    ['~', '~',  7 , '~', '~', '~',  4 , '~',  5 ],\n",
    "]"
   ]
  },
  {
   "cell_type": "code",
   "execution_count": 115,
   "metadata": {},
   "outputs": [],
   "source": [
    "board4 = [\n",
    "    [ 5 ,  3 , '~', '~',  7 , '~', '~', '~', '~'],\n",
    "    [ 6 , '~', '~',  1 ,  9 ,  5 , '~', '~', '~'],\n",
    "    ['~',  9 ,  8 , '~', '~', '~', '~',  6 , '~'],\n",
    "    [ 8 , '~', '~', '~',  6 , '~', '~', '~',  3 ],\n",
    "    [ 4 , '~', '~',  8 , '~',  3 , '~', '~',  1 ],\n",
    "    [ 7 , '~', '~', '~',  2 , '~', '~', '~',  6 ],\n",
    "    ['~',  6 , '~', '~', '~', '~',  2 ,  8 , '~'],\n",
    "    ['~', '~', '~',  4 ,  1 ,  9 , '~', '~',  5 ],\n",
    "    ['~', '~', '~', '~',  8 , '~', '~',  7 ,  9 ],\n",
    "]"
   ]
  },
  {
   "cell_type": "code",
   "execution_count": 104,
   "metadata": {},
   "outputs": [],
   "source": [
    "board = [\n",
    "    ['~', '~', '~', '~', '~', '~', '~', '~', '~'],\n",
    "    ['~', '~', '~', '~', '~', '~', '~', '~', '~'],\n",
    "    ['~', '~', '~', '~', '~', '~', '~', '~', '~'],\n",
    "    ['~', '~', '~', '~', '~', '~', '~', '~', '~'],\n",
    "    ['~', '~', '~', '~', '~', '~', '~', '~', '~'],\n",
    "    ['~', '~', '~', '~', '~', '~', '~', '~', '~'],\n",
    "    ['~', '~', '~', '~', '~', '~', '~', '~', '~'],\n",
    "    ['~', '~', '~', '~', '~', '~', '~', '~', '~'],\n",
    "    ['~', '~', '~', '~', '~', '~', '~', '~', '~'],\n",
    "]"
   ]
  },
  {
   "cell_type": "code",
   "execution_count": 19,
   "metadata": {},
   "outputs": [],
   "source": [
    "def display_game_board(board):\n",
    "    board_array = [entry for row in board for entry in row]\n",
    "    for i, value in enumerate(board_array):\n",
    "        if i == 0: sys.stdout.write('---' * 9 + '----\\n|')\n",
    "        else: \n",
    "            if i % 9 == 0: sys.stdout.write('|\\n')\n",
    "            if i % 27 == 0: sys.stdout.write('---' * 9 + '----\\n')\n",
    "            if i % 3 == 0: sys.stdout.write('|')\n",
    "        sys.stdout.write(f' {value} ')\n",
    "        if i == 80:\n",
    "            sys.stdout.write('|\\n' + '---' * 9 + '----')"
   ]
  },
  {
   "cell_type": "code",
   "execution_count": 6,
   "metadata": {},
   "outputs": [],
   "source": [
    "def check_row(board, row):\n",
    "    values_in_row = []\n",
    "    for value in board[row]:\n",
    "        if isinstance(value, int): values_in_row.append(value)\n",
    "    return values_in_row"
   ]
  },
  {
   "cell_type": "code",
   "execution_count": 7,
   "metadata": {},
   "outputs": [],
   "source": [
    "def check_column(board, column):\n",
    "    values_in_column = []\n",
    "    for i in range(9):\n",
    "        if isinstance(board[i][column], int): values_in_column.append(board[i][column])\n",
    "    return values_in_column"
   ]
  },
  {
   "cell_type": "code",
   "execution_count": 8,
   "metadata": {},
   "outputs": [],
   "source": [
    "def check_square(board, row, column):\n",
    "    values_in_square = []\n",
    "\n",
    "    if 0 <= row <= 2:\n",
    "        rows_to_check = [0, 1, 2]\n",
    "    elif 3 <= row <= 5:\n",
    "        rows_to_check = [3, 4, 5]\n",
    "    elif 6 <= row <= 8:\n",
    "        rows_to_check = [6, 7, 8]\n",
    "\n",
    "    if 0 <= column <= 2:\n",
    "        columns_to_check = [0, 1, 2]\n",
    "    elif 3 <= column <= 5:\n",
    "        columns_to_check = [3, 4, 5]\n",
    "    elif 6 <= column <= 8:\n",
    "        columns_to_check = [6, 7, 8]\n",
    "\n",
    "    for row in rows_to_check:\n",
    "        for column in columns_to_check:\n",
    "            if isinstance(board[row][column], int):\n",
    "                values_in_square.append(board[row][column])\n",
    "    \n",
    "    return values_in_square\n",
    "    "
   ]
  },
  {
   "cell_type": "code",
   "execution_count": 9,
   "metadata": {},
   "outputs": [],
   "source": [
    "def find_value_options(board, row, column):\n",
    "    default_options = set(x for x in range(1, 10))\n",
    "\n",
    "    values_in_row = check_row(board, row)\n",
    "    values_in_column = check_column(board, column)\n",
    "    values_in_square = check_square(board, row, column)\n",
    "\n",
    "    values_taken = set(values_in_row + values_in_column + values_in_square)\n",
    "\n",
    "    value_options = list(default_options - values_taken)\n",
    "\n",
    "    return(value_options)"
   ]
  },
  {
   "cell_type": "code",
   "execution_count": 58,
   "metadata": {},
   "outputs": [],
   "source": [
    "# Find values guarenteed by row, column, and square\n",
    "# Adds them to board\n",
    "def write_guarenteed_values(board):\n",
    "    # print('Original Game Board')\n",
    "    # display_game_board(board)\n",
    "    # print('\\nGuarenteed Spots Filled In')\n",
    "    new_board = copy.deepcopy(board)\n",
    "    x = 1\n",
    "    while True:\n",
    "        updated_board = False\n",
    "        for row in range(9):\n",
    "            for column in range(9):\n",
    "                if isinstance(new_board[row][column], int):\n",
    "                    continue\n",
    "                value_options = find_value_options(new_board, row, column)\n",
    "                if len(value_options) == 1:\n",
    "                    new_board[row][column] = value_options[0]\n",
    "                    updated_board = True\n",
    "        if updated_board == False:\n",
    "            break\n",
    "    # display_game_board(new_board)\n",
    "    return new_board"
   ]
  },
  {
   "cell_type": "code",
   "execution_count": 14,
   "metadata": {},
   "outputs": [],
   "source": [
    "def is_board_solved(board):\n",
    "    for row in range(9):\n",
    "        for column in range(9):\n",
    "            if isinstance(board[row][column], str):\n",
    "                return False\n",
    "    return True"
   ]
  },
  {
   "cell_type": "code",
   "execution_count": 15,
   "metadata": {},
   "outputs": [],
   "source": [
    "def find_missing_values(board):\n",
    "    missing_values = []\n",
    "    for row in range(9):\n",
    "        for column in range(9):\n",
    "            if isinstance(board[row][column], str):\n",
    "                missing_values.append((row,column))\n",
    "    return missing_values                "
   ]
  },
  {
   "cell_type": "code",
   "execution_count": 152,
   "metadata": {},
   "outputs": [],
   "source": [
    "def recursive_solve(board, recursion_count=None, index=None, missing_values=None, values_tried=None):\n",
    "    print()\n",
    "    if recursion_count == None:\n",
    "        recursion_count = 0\n",
    "    if index == None:\n",
    "        index = 0\n",
    "    if missing_values == None:\n",
    "        missing_values = find_missing_values(board)\n",
    "    if values_tried == None:\n",
    "        values_tried = [[] for x in range(len(missing_values))]\n",
    "    if is_board_solved(board):\n",
    "        return\n",
    "\n",
    "    row, column = missing_values[index]\n",
    "    board[row][column] = '~'\n",
    "    value_options = find_value_options(board, row, column)\n",
    "    value_options = list(set(value_options) - set(values_tried[index]))\n",
    "    value_options.sort()\n",
    "    print(f'this board has been tried {recursion_count} times recursively')\n",
    "    print(f'row = {row}, column = {column}')\n",
    "    print(f'value options = {value_options}')\n",
    "    print(f'already_tried {values_tried[index]}')\n",
    "    print(f'index = {index}')\n",
    "    print(f'values_tried = {values_tried}')\n",
    "    display_game_board(board)\n",
    "    if len(value_options) == 0:\n",
    "        recursive_solve(board, recursion_count + 1, index - 1, missing_values, values_tried)\n",
    "    else:\n",
    "        value_to_try = value_options[0]\n",
    "        print(f'\\nvalue to try = {value_to_try}')\n",
    "        values_tried[index].append(value_to_try)\n",
    "        for backtrack_index in range(index + 1, len(values_tried)):\n",
    "            values_tried[backtrack_index] = []\n",
    "        board[row][column] = value_to_try\n",
    "        recursive_solve(board, recursion_count + 1,index + 1, missing_values, values_tried)\n"
   ]
  },
  {
   "cell_type": "code",
   "execution_count": 120,
   "metadata": {},
   "outputs": [
    {
     "name": "stdout",
     "output_type": "stream",
     "text": [
      "10000\n"
     ]
    }
   ],
   "source": [
    "sys.setrecursionlimit(10000)\n",
    "print(sys.getrecursionlimit())"
   ]
  },
  {
   "cell_type": "code",
   "execution_count": 165,
   "metadata": {},
   "outputs": [],
   "source": [
    "board = reset_board(\"board3\")"
   ]
  },
  {
   "cell_type": "code",
   "execution_count": 166,
   "metadata": {},
   "outputs": [
    {
     "name": "stdout",
     "output_type": "stream",
     "text": [
      "-------------------------------\n",
      "| 3  ~  5 | ~  ~  ~ | 2  ~  ~ |\n",
      "| ~  ~  9 | 2  ~  ~ | 1  7  ~ |\n",
      "| 2  ~  ~ | ~  ~  9 | ~  8  3 |\n",
      "-------------------------------\n",
      "| ~  ~  ~ | 4  7  ~ | 3  ~  ~ |\n",
      "| ~  1  ~ | ~  ~  ~ | ~  5  ~ |\n",
      "| ~  ~  2 | ~  5  1 | ~  ~  ~ |\n",
      "-------------------------------\n",
      "| 5  2  ~ | 1  ~  ~ | ~  ~  8 |\n",
      "| ~  9  4 | ~  ~  8 | 7  ~  ~ |\n",
      "| ~  ~  7 | ~  ~  ~ | 4  ~  5 |\n",
      "-------------------------------"
     ]
    }
   ],
   "source": [
    "display_game_board(board)"
   ]
  },
  {
   "cell_type": "code",
   "execution_count": 167,
   "metadata": {},
   "outputs": [
    {
     "name": "stdout",
     "output_type": "stream",
     "text": [
      "Is board solved? True\n",
      "-------------------------------\n",
      "| 3  7  5 | 8  1  4 | 2  6  9 |\n",
      "| 8  6  9 | 2  3  5 | 1  7  4 |\n",
      "| 2  4  1 | 7  6  9 | 5  8  3 |\n",
      "-------------------------------\n",
      "| 9  5  8 | 4  7  6 | 3  1  2 |\n",
      "| 4  1  6 | 3  8  2 | 9  5  7 |\n",
      "| 7  3  2 | 9  5  1 | 8  4  6 |\n",
      "-------------------------------\n",
      "| 5  2  3 | 1  4  7 | 6  9  8 |\n",
      "| 6  9  4 | 5  2  8 | 7  3  1 |\n",
      "| 1  8  7 | 6  9  3 | 4  2  5 |\n",
      "-------------------------------"
     ]
    }
   ],
   "source": [
    "default_stdout = sys.stdout\n",
    "board_to_solve = write_guarenteed_values(board)\n",
    "# board_to_solve = board\n",
    "try:\n",
    "    sys.stdout = open('output.txt', 'wt')\n",
    "    recursive_solve(board_to_solve)\n",
    "except:\n",
    "    RecursionError\n",
    "    sys.stdout = default_stdout\n",
    "    print(f'MAX RECURSION DEPTH OF {sys.getrecursionlimit()} MET')\n",
    "sys.stdout = default_stdout\n",
    "print(f'Is board solved? {is_board_solved(board_to_solve)}')\n",
    "display_game_board(board_to_solve)"
   ]
  }
 ],
 "metadata": {
  "kernelspec": {
   "display_name": "Python 3.6.8 64-bit",
   "language": "python",
   "name": "python3"
  },
  "language_info": {
   "codemirror_mode": {
    "name": "ipython",
    "version": 3
   },
   "file_extension": ".py",
   "mimetype": "text/x-python",
   "name": "python",
   "nbconvert_exporter": "python",
   "pygments_lexer": "ipython3",
   "version": "3.8.10"
  },
  "orig_nbformat": 4,
  "vscode": {
   "interpreter": {
    "hash": "916dbcbb3f70747c44a77c7bcd40155683ae19c65e1c03b4aa3499c5328201f1"
   }
  }
 },
 "nbformat": 4,
 "nbformat_minor": 2
}
